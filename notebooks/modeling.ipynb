{
 "cells": [
  {
   "cell_type": "code",
   "execution_count": null,
   "id": "initial_id",
   "metadata": {
    "collapsed": true
   },
   "outputs": [],
   "source": [
    "import mlflow\n",
    "import cloudpickle\n",
    "import numpy as np\n",
    "from keras.utils import to_categorical\n",
    "from app.modeling.tuning import tune_model\n",
    "from keras.callbacks import EarlyStopping\n",
    "from mlflow.models import infer_signature\n",
    "from sklearn.preprocessing import LabelEncoder\n",
    "from keras.preprocessing.text import Tokenizer\n",
    "from app.preprocessing.text import prepare_text_data\n",
    "from app.modeling.evaluation import ClassificationEvaluator\n",
    "from app.utilities.utils import load_dataset, extract_score_by_trial, save_artifact_locally, save_experiment"
   ]
  },
  {
   "cell_type": "code",
   "execution_count": null,
   "outputs": [],
   "source": [
    "mlflow.set_tracking_uri(\"http://localhost:2020/\")"
   ],
   "metadata": {
    "collapsed": false
   },
   "id": "e120554578263635"
  },
  {
   "cell_type": "code",
   "execution_count": null,
   "outputs": [],
   "source": [
    "mlflow.set_experiment(experiment_name=\"Domain Classification\")"
   ],
   "metadata": {
    "collapsed": false
   },
   "id": "86ea431a0e02a11e"
  },
  {
   "cell_type": "code",
   "execution_count": null,
   "outputs": [],
   "source": [
    "train_data = load_dataset(filepath=\"data/train.csv\")\n",
    "validation_data = load_dataset(filepath=\"data/validation.csv\")\n",
    "test_data = load_dataset(filepath=\"data/test.csv\")"
   ],
   "metadata": {
    "collapsed": false
   },
   "id": "16d56a3b2f2a47b2"
  },
  {
   "cell_type": "markdown",
   "source": [
    "# Modeling"
   ],
   "metadata": {
    "collapsed": false
   },
   "id": "43750958da5896b1"
  },
  {
   "cell_type": "code",
   "execution_count": null,
   "outputs": [],
   "source": [
    "label_col = 'domain'\n",
    "text_col = \"item\"\n",
    "\n",
    "train_label = train_data.pop(label_col)\n",
    "validation_label = validation_data.pop(label_col)\n",
    "test_label = test_data.pop(label_col)\n",
    "\n",
    "texts_train, texts_validation, texts_test = train_data[text_col].copy(), validation_data[text_col].copy(), test_data[text_col].copy()"
   ],
   "metadata": {
    "collapsed": false
   },
   "id": "af60d341e94e6f79"
  },
  {
   "cell_type": "code",
   "execution_count": null,
   "outputs": [],
   "source": [
    "tokenizer = Tokenizer(num_words=5000)\n",
    "tokenizer.fit_on_texts(texts=texts_train)"
   ],
   "metadata": {
    "collapsed": false
   },
   "id": "c4e0cc4e67b25692"
  },
  {
   "cell_type": "code",
   "execution_count": null,
   "outputs": [],
   "source": [
    "encoder = LabelEncoder()\n",
    "\n",
    "train_label = encoder.fit_transform(train_label)\n",
    "test_label = encoder.transform(test_label)\n",
    "validation_label = encoder.transform(validation_label)"
   ],
   "metadata": {
    "collapsed": false
   },
   "id": "73ca8b313e1f287"
  },
  {
   "cell_type": "code",
   "execution_count": null,
   "outputs": [],
   "source": [
    "prepare_text_data_path = \"models/preprocessing/prepare_text_data.pkl\"\n",
    "tokenizer_path = \"models/preprocessing/tokenizer.pkl\"\n",
    "label_encoder_path = \"models/preprocessing/label_encoder.pkl\"\n",
    "\n",
    "with open(prepare_text_data_path, \"wb\") as file:\n",
    "    cloudpickle.dump(obj=prepare_text_data, file=file)\n",
    "    \n",
    "with open(tokenizer_path, \"wb\") as file:\n",
    "    cloudpickle.dump(obj=tokenizer, file=file)\n",
    "    \n",
    "with open(label_encoder_path, \"wb\") as file:\n",
    "    cloudpickle.dump(obj=encoder, file=file)"
   ],
   "metadata": {
    "collapsed": false
   },
   "id": "b48ba35a66869221"
  },
  {
   "cell_type": "code",
   "execution_count": null,
   "outputs": [],
   "source": [
    "with mlflow.start_run(run_name=\"preprocessing\"):\n",
    "    mlflow.log_artifact(local_path=prepare_text_data_path)\n",
    "    mlflow.log_artifact(local_path=tokenizer_path)\n",
    "    mlflow.log_artifact(local_path=label_encoder_path)"
   ],
   "metadata": {
    "collapsed": false
   },
   "id": "69e7ccb9168e545e"
  },
  {
   "cell_type": "code",
   "execution_count": null,
   "outputs": [],
   "source": [
    "texts_train = prepare_text_data(texts=texts_train, tokenizer=tokenizer, max_len=30)\n",
    "texts_validation = prepare_text_data(texts=texts_validation, tokenizer=tokenizer, max_len=30)\n",
    "texts_test = prepare_text_data(texts=texts_test, tokenizer=tokenizer, max_len=30)"
   ],
   "metadata": {
    "collapsed": false
   },
   "id": "19335ce02abe435a"
  },
  {
   "cell_type": "code",
   "execution_count": null,
   "outputs": [],
   "source": [
    "vocab_size = len(tokenizer.word_index) + 1"
   ],
   "metadata": {
    "collapsed": false
   },
   "id": "3b48c4786100a623"
  },
  {
   "cell_type": "markdown",
   "source": [
    "# Modeling\n",
    "\n",
    "## ML Models\n",
    "\n",
    "### Sklearn"
   ],
   "metadata": {
    "collapsed": false
   },
   "id": "98a2cddd00de6263"
  },
  {
   "cell_type": "code",
   "execution_count": null,
   "outputs": [],
   "source": [
    "class_names = {i: v for i, v in enumerate(encoder.classes_)}"
   ],
   "metadata": {
    "collapsed": false
   },
   "id": "9231f40ec03d7ca4"
  },
  {
   "cell_type": "code",
   "execution_count": null,
   "outputs": [],
   "source": [
    "sklearn_tuner = tune_model(model_type=\"sklearn\")\n",
    "\n",
    "sklearn_tuner.search(texts_train, train_label)"
   ],
   "metadata": {
    "collapsed": false
   },
   "id": "e07b36e38be8f63b"
  },
  {
   "cell_type": "code",
   "execution_count": null,
   "outputs": [],
   "source": [
    "gbm = sklearn_tuner.get_best_models(num_models=1)[0]"
   ],
   "metadata": {
    "collapsed": false
   },
   "id": "2244cd35dfa9799d"
  },
  {
   "cell_type": "code",
   "execution_count": null,
   "outputs": [],
   "source": [
    "evaluation = ClassificationEvaluator(observed=test_label, predicted=gbm.predict(texts_test))\n",
    "evaluation.print_metrics()\n",
    "evaluation.confusion_matrix(class_names=class_names)"
   ],
   "metadata": {
    "collapsed": false
   },
   "id": "d5b67befe86dc14c"
  },
  {
   "cell_type": "code",
   "execution_count": null,
   "outputs": [],
   "source": [
    "model_path = \"models/hist_gradient_boosting\"\n",
    "\n",
    "description = \"Entrenamiento de HistGradientBoosting para clasificación del dominio\""
   ],
   "metadata": {
    "collapsed": false
   },
   "id": "941940650f4eea97"
  },
  {
   "cell_type": "code",
   "execution_count": null,
   "outputs": [],
   "source": [
    "signature = infer_signature(model_input=texts_validation, model_output=gbm.predict(texts_validation))"
   ],
   "metadata": {
    "collapsed": false
   },
   "id": "6f57c0d4991da5af"
  },
  {
   "cell_type": "code",
   "execution_count": null,
   "outputs": [],
   "source": [
    "with mlflow.start_run(run_name=\"hist_gradient_boosting\", description=description):\n",
    "    mlflow.log_metrics(metrics=evaluation.calculate_metrics())\n",
    "    mlflow.log_params(params=gbm.get_params())\n",
    "    mlflow.log_metric(key=\"accuracy validation\", value=extract_score_by_trial(tuner=sklearn_tuner))\n",
    "    mlflow.log_table(data=evaluation.confusion_matrix(class_names=class_names), artifact_file=f\"metrics/confusion_matrix_gbm.json\")\n",
    "    mlflow.sklearn.save_model(sk_model=gbm, path=model_path)\n",
    "    mlflow.sklearn.log_model(sk_model=gbm, artifact_path=model_path, signature=signature)"
   ],
   "metadata": {
    "collapsed": false
   },
   "id": "25ab4ad151a7b7ae"
  },
  {
   "cell_type": "markdown",
   "source": [
    "### XGBoost"
   ],
   "metadata": {
    "collapsed": false,
    "ExecuteTime": {
     "end_time": "2023-12-01T01:02:50.857797Z",
     "start_time": "2023-12-01T01:02:50.844984Z"
    }
   },
   "id": "a31d2b9940d74f5d"
  },
  {
   "cell_type": "code",
   "execution_count": null,
   "outputs": [],
   "source": [
    "xgb_tuner = tune_model(model_type=\"xgboost\")\n",
    "\n",
    "xgb_tuner.search(texts_train, train_label)"
   ],
   "metadata": {
    "collapsed": false
   },
   "id": "1b26d2f7c3cb55e4"
  },
  {
   "cell_type": "code",
   "execution_count": null,
   "outputs": [],
   "source": [
    "xgb_model = xgb_tuner.get_best_models(num_models=1)[0]\n",
    "\n",
    "evaluation = ClassificationEvaluator(observed=test_label, predicted=xgb_model.predict(texts_test))\n",
    "evaluation.print_metrics()\n",
    "evaluation.confusion_matrix()"
   ],
   "metadata": {
    "collapsed": false
   },
   "id": "10bd1deefe8b7a0a"
  },
  {
   "cell_type": "code",
   "execution_count": null,
   "outputs": [],
   "source": [
    "model_path = \"models/xgboost\"\n",
    "\n",
    "description = \"Entrenamiento de XGBoost para clasificación del dominio\""
   ],
   "metadata": {
    "collapsed": false
   },
   "id": "f0479f4111d8db60"
  },
  {
   "cell_type": "code",
   "execution_count": null,
   "outputs": [],
   "source": [
    "with mlflow.start_run(run_name=\"xgb\", description=description):\n",
    "    mlflow.log_metrics(metrics=evaluation.calculate_metrics())\n",
    "    mlflow.log_params(params=xgb_model.get_params())\n",
    "    mlflow.log_metric(key=\"accuracy validation\", value=extract_score_by_trial(tuner=xgb_tuner))\n",
    "    mlflow.log_table(data=evaluation.confusion_matrix(), artifact_file=f\"metrics/confusion_matrix_xgboost.json\")\n",
    "    mlflow.xgboost.save_model(xgb_model=xgb_model, path=model_path)"
   ],
   "metadata": {
    "collapsed": false
   },
   "id": "1d54095308ee4a83"
  },
  {
   "cell_type": "markdown",
   "source": [
    "## Neural Network Architecture\n",
    "\n",
    "### RNN"
   ],
   "metadata": {
    "collapsed": false,
    "ExecuteTime": {
     "end_time": "2023-12-01T01:03:40.750799Z",
     "start_time": "2023-12-01T01:03:15.805272Z"
    }
   },
   "id": "308dfa28b6a49f5e"
  },
  {
   "cell_type": "code",
   "execution_count": null,
   "outputs": [],
   "source": [
    "max_length = 30\n",
    "embedding_dim = 50\n",
    "\n",
    "early_stopping = EarlyStopping(monitor=\"val_accuracy\", patience=10)"
   ],
   "metadata": {
    "collapsed": false
   },
   "id": "499f10da535c83f6"
  },
  {
   "cell_type": "code",
   "execution_count": null,
   "outputs": [],
   "source": [
    "rnn_tuner = tune_model(model_type=\"rnn\", input_dim=vocab_size, output_dim=embedding_dim, max_length=max_length)\n",
    "\n",
    "rnn_tuner.search(texts_train, to_categorical(train_label),\n",
    "                 epochs=100, batch_size=256, validation_data=(texts_validation, to_categorical(validation_label)), callbacks=[early_stopping])"
   ],
   "metadata": {
    "collapsed": false
   },
   "id": "31fd3d629a025171"
  },
  {
   "cell_type": "code",
   "execution_count": null,
   "outputs": [],
   "source": [
    "rnn = rnn_tuner.get_best_models(num_models=1)[0]\n",
    "\n",
    "rnn.summary()"
   ],
   "metadata": {
    "collapsed": false
   },
   "id": "2afffb245a8ecbb7"
  },
  {
   "cell_type": "code",
   "execution_count": null,
   "outputs": [],
   "source": [
    "evaluation = ClassificationEvaluator(observed=test_label, predicted=np.argmax(rnn.predict(texts_test), axis=1))\n",
    "evaluation.print_metrics()\n",
    "evaluation.confusion_matrix()"
   ],
   "metadata": {
    "collapsed": false
   },
   "id": "4f24a1c07b40331b"
  },
  {
   "cell_type": "code",
   "execution_count": null,
   "outputs": [],
   "source": [
    "model_path = \"models/rnn\"\n",
    "\n",
    "description = \"Entrenamiento Arquitectura Embedding - RNN\"\n",
    "\n",
    "with mlflow.start_run(run_name=\"emb_rnn\", description=description):\n",
    "    mlflow.log_metrics(metrics=evaluation.calculate_metrics())\n",
    "    mlflow.log_params(params=rnn_tuner.get_best_hyperparameters(num_trials=1)[0].values)\n",
    "    mlflow.log_metric(key=\"accuracy validation\", value=extract_score_by_trial(tuner=rnn_tuner))\n",
    "    mlflow.log_table(data=evaluation.confusion_matrix(), artifact_file=f\"metrics/confusion_matrix_rnn.json\")\n",
    "    mlflow.tensorflow.save_model(model=rnn, path=model_path)"
   ],
   "metadata": {
    "collapsed": false
   },
   "id": "18622f9ff990438d"
  },
  {
   "cell_type": "markdown",
   "source": [
    "### LSTM"
   ],
   "metadata": {
    "collapsed": false
   },
   "id": "37fecc771027a62a"
  },
  {
   "cell_type": "code",
   "execution_count": null,
   "outputs": [],
   "source": [
    "lstm_tuner = tune_model(model_type=\"lstm\", input_dim=vocab_size, output_dim=embedding_dim, max_length=max_length)\n",
    "\n",
    "lstm_tuner.search(texts_train, to_categorical(train_label),\n",
    "                  epochs=100, batch_size=256, validation_data=(texts_validation, to_categorical(validation_label)), callbacks=[early_stopping])"
   ],
   "metadata": {
    "collapsed": false
   },
   "id": "f873f7b0ef99ad09"
  },
  {
   "cell_type": "code",
   "execution_count": null,
   "outputs": [],
   "source": [
    "lstm = lstm_tuner.get_best_models(num_models=1)[0]\n",
    "\n",
    "lstm.summary()"
   ],
   "metadata": {
    "collapsed": false
   },
   "id": "d3389acea5f5cf42"
  },
  {
   "cell_type": "code",
   "execution_count": null,
   "outputs": [],
   "source": [
    "evaluation = ClassificationEvaluator(observed=test_label, predicted=np.argmax(lstm.predict(texts_test), axis=1))\n",
    "evaluation.print_metrics()\n",
    "evaluation.confusion_matrix()"
   ],
   "metadata": {
    "collapsed": false
   },
   "id": "115104b45fd4b0fe"
  },
  {
   "cell_type": "code",
   "execution_count": null,
   "outputs": [],
   "source": [
    "model_path = \"models/lstm\"\n",
    "\n",
    "description = \"Entrenamiento Arquitectura Embedding - LSTM\"\n",
    "\n",
    "with mlflow.start_run(run_name=\"emb_lstm\", description=description):\n",
    "    mlflow.log_metrics(metrics=evaluation.calculate_metrics())\n",
    "    mlflow.log_params(params=lstm_tuner.get_best_hyperparameters(num_trials=1)[0].values)\n",
    "    mlflow.log_metric(key=\"accuracy validation\", value=extract_score_by_trial(tuner=lstm_tuner))\n",
    "    mlflow.log_table(data=evaluation.confusion_matrix(), artifact_file=f\"metrics/confusion_matrix_lstm.json\")\n",
    "    mlflow.tensorflow.save_model(model=lstm, path=model_path)"
   ],
   "metadata": {
    "collapsed": false
   },
   "id": "a17ca0fad7cde4f6"
  },
  {
   "cell_type": "code",
   "execution_count": null,
   "outputs": [],
   "source": [],
   "metadata": {
    "collapsed": false
   },
   "id": "8f21e994f01c321e"
  }
 ],
 "metadata": {
  "kernelspec": {
   "display_name": "Python 3",
   "language": "python",
   "name": "python3"
  },
  "language_info": {
   "codemirror_mode": {
    "name": "ipython",
    "version": 2
   },
   "file_extension": ".py",
   "mimetype": "text/x-python",
   "name": "python",
   "nbconvert_exporter": "python",
   "pygments_lexer": "ipython2",
   "version": "2.7.6"
  }
 },
 "nbformat": 4,
 "nbformat_minor": 5
}
