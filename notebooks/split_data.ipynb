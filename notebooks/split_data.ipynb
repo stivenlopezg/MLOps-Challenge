{
 "cells": [
  {
   "cell_type": "code",
   "execution_count": null,
   "id": "initial_id",
   "metadata": {
    "collapsed": true
   },
   "outputs": [],
   "source": [
    "import numpy as np\n",
    "import pandas as pd\n",
    "import matplotlib.pyplot as plt\n",
    "from sklearn.model_selection import train_test_split\n",
    "from app.utilities.utils import print_dataset_info, save_dataset"
   ]
  },
  {
   "cell_type": "code",
   "execution_count": null,
   "outputs": [],
   "source": [
    "data = pd.read_csv(\"data/dataset_items.csv\")\n",
    "data[\"ITE_ITEM_DOM_DOMAIN_ID\"] = [value.split(\"-\")[1] for value in data[\"ITE_ITEM_DOM_DOMAIN_ID\"]]\n",
    "data.rename(columns={\"ITE_ITEM_TITLE\": \"item\",\n",
    "                     \"ITE_ITEM_DOM_DOMAIN_ID\": \"domain\"}, inplace=True)\n",
    "data.head(n=5)"
   ],
   "metadata": {
    "collapsed": false
   },
   "id": "b65934fa5fd3e9ad"
  },
  {
   "cell_type": "code",
   "execution_count": null,
   "outputs": [],
   "source": [
    "data.describe(exclude=\"number\")"
   ],
   "metadata": {
    "collapsed": false
   },
   "id": "c7be50ae97071a"
  },
  {
   "cell_type": "code",
   "execution_count": null,
   "outputs": [],
   "source": [
    "duplicates = data[data[\"item\"] == 'Kit Make Bloquinho De Carnaval Jequiti 1 Un']\n",
    "duplicates"
   ],
   "metadata": {
    "collapsed": false
   },
   "id": "a27dafdb56ae4f3e"
  },
  {
   "cell_type": "code",
   "execution_count": null,
   "outputs": [],
   "source": [
    "data.drop_duplicates(subset=[\"item\"], keep=False, inplace=True)"
   ],
   "metadata": {
    "collapsed": false
   },
   "id": "17a854d1cb445ed"
  },
  {
   "cell_type": "markdown",
   "source": [
    "# Outlier"
   ],
   "metadata": {
    "collapsed": false
   },
   "id": "883122a2bff0a6e0"
  },
  {
   "cell_type": "code",
   "execution_count": null,
   "outputs": [],
   "source": [
    "longitudes = [len(sequence.split()) for sequence in data[\"item\"]]\n",
    "\n",
    "print(\"Longitud maxima:\", np.max(longitudes))\n",
    "print(\"Longitud media:\", np.mean(longitudes))\n",
    "print(\"Longitud mediana:\", np.median(longitudes))\n",
    "print(\"Desviación estándar:\", np.std(longitudes))"
   ],
   "metadata": {
    "collapsed": false
   },
   "id": "7bb750860d283427"
  },
  {
   "cell_type": "code",
   "execution_count": null,
   "outputs": [],
   "source": [
    "plt.figure(figsize=(20, 12))\n",
    "\n",
    "plt.hist(longitudes)\n",
    "plt.xlabel(\"Longitud de la secuencia\")\n",
    "plt.ylabel(\"Frecuencia\")\n",
    "plt.show()"
   ],
   "metadata": {
    "collapsed": false
   },
   "id": "788a7a9784b2165a"
  },
  {
   "cell_type": "code",
   "execution_count": null,
   "outputs": [],
   "source": [
    "sample = data.groupby(by='domain', group_keys=False).apply(lambda d: d.sample(50))"
   ],
   "metadata": {
    "collapsed": false
   },
   "id": "78aa8a96620a9f38"
  },
  {
   "cell_type": "code",
   "execution_count": null,
   "outputs": [],
   "source": [
    "sample[\"domain\"].value_counts()"
   ],
   "metadata": {
    "collapsed": false
   },
   "id": "2c24cc2b5f51231b"
  },
  {
   "cell_type": "code",
   "execution_count": null,
   "outputs": [],
   "source": [
    "csv_kwargs = {\"index\": False}\n",
    "\n",
    "save_dataset(dataframe=sample, filepath=\"data/inference.csv\", file_type=\"csv\", **csv_kwargs)"
   ],
   "metadata": {
    "collapsed": false
   },
   "id": "34410a2d4d4f1f62"
  },
  {
   "cell_type": "code",
   "execution_count": null,
   "outputs": [],
   "source": [
    "data.drop(index=sample.index, inplace=True)"
   ],
   "metadata": {
    "collapsed": false
   },
   "id": "2ce399c4c618b466"
  },
  {
   "cell_type": "code",
   "execution_count": null,
   "outputs": [],
   "source": [
    "label_col = \"domain\"\n",
    "\n",
    "train_data, test_data = train_test_split(data, test_size=0.3)\n",
    "\n",
    "test_data, validation_data = train_test_split(test_data, test_size=0.3)\n",
    "\n",
    "\n",
    "print(f\"El set de entrenamiento tiene {len(train_data)} observaciones.\")\n",
    "print_dataset_info(data=train_data, column=label_col)\n",
    "print(\"--\" * 50)\n",
    "\n",
    "print(f\"El set de validacion tiene {len(validation_data)} observaciones.\")\n",
    "print_dataset_info(data=validation_data, column=label_col)\n",
    "print(\"--\" * 50)\n",
    "\n",
    "print(f\"El set de test tiene {len(test_data)} observaciones.\")\n",
    "print_dataset_info(data=test_data, column=label_col)\n",
    "print(\"--\" * 50)"
   ],
   "metadata": {
    "collapsed": false
   },
   "id": "df3c77451e16f7de"
  },
  {
   "cell_type": "code",
   "execution_count": null,
   "outputs": [],
   "source": [
    "save_dataset(dataframe=train_data, filepath=\"data/train.csv\", file_type=\"csv\", **csv_kwargs)\n",
    "save_dataset(dataframe=validation_data, filepath=\"data/validation.csv\", file_type=\"csv\", **csv_kwargs)\n",
    "save_dataset(dataframe=test_data, filepath=\"data/test.csv\", file_type=\"csv\", **csv_kwargs)"
   ],
   "metadata": {
    "collapsed": false
   },
   "id": "434ac0bb14b7eb80"
  },
  {
   "cell_type": "code",
   "execution_count": null,
   "outputs": [],
   "source": [],
   "metadata": {
    "collapsed": false
   },
   "id": "67fe9ce8047c19c9"
  }
 ],
 "metadata": {
  "kernelspec": {
   "display_name": "Python 3",
   "language": "python",
   "name": "python3"
  },
  "language_info": {
   "codemirror_mode": {
    "name": "ipython",
    "version": 2
   },
   "file_extension": ".py",
   "mimetype": "text/x-python",
   "name": "python",
   "nbconvert_exporter": "python",
   "pygments_lexer": "ipython2",
   "version": "2.7.6"
  }
 },
 "nbformat": 4,
 "nbformat_minor": 5
}
