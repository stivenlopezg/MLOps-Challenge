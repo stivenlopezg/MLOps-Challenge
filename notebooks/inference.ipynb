{
 "cells": [
  {
   "cell_type": "code",
   "execution_count": null,
   "id": "initial_id",
   "metadata": {
    "collapsed": true
   },
   "outputs": [],
   "source": [
    "import os\n",
    "import mlflow\n",
    "import numpy as np\n",
    "import pandas as pd\n",
    "from mlflow.tracking import MlflowClient\n",
    "from app.preprocessing.text import prepare_text_data\n",
    "from app.utilities.utils import load_dataset, load_artifact_locally"
   ]
  },
  {
   "cell_type": "code",
   "execution_count": null,
   "outputs": [],
   "source": [
    "client = MlflowClient()\n",
    "\n",
    "mlflow.set_tracking_uri(\"http://localhost:2020/\")"
   ],
   "metadata": {
    "collapsed": false
   },
   "id": "a53dc84acc06b04a"
  },
  {
   "cell_type": "code",
   "execution_count": null,
   "outputs": [],
   "source": [
    "text_inference = load_dataset(filepath=\"data/inference.csv\")[\"item\"]"
   ],
   "metadata": {
    "collapsed": false
   },
   "id": "a8bad8ab4492115a"
  },
  {
   "cell_type": "code",
   "execution_count": null,
   "outputs": [],
   "source": [
    "runs = mlflow.search_runs(experiment_names=[\"Domain Classification\"],\n",
    "                          order_by=[\"metrics.f1 DESC\"])"
   ],
   "metadata": {
    "collapsed": false
   },
   "id": "b21c26cff5cef594"
  },
  {
   "cell_type": "code",
   "execution_count": null,
   "outputs": [],
   "source": [
    "local_dir = \"inference/\"\n",
    "\n",
    "if not os.path.exists(local_dir):\n",
    "    os.mkdir(path=local_dir)"
   ],
   "metadata": {
    "collapsed": false
   },
   "id": "8327271779721c5d"
  },
  {
   "cell_type": "code",
   "execution_count": null,
   "outputs": [],
   "source": [
    "metrics_path = \"models/\"\n",
    "\n",
    "run_id = runs[\"run_id\"].iloc[0]\n",
    "\n",
    "local_path = client.download_artifacts(run_id=run_id, path=metrics_path, dst_path=local_dir)\n",
    "\n",
    "tokenizer = load_artifact_locally(local_path=f\"{local_path}/preprocessing/tokenizer.pkl\")"
   ],
   "metadata": {
    "collapsed": false
   },
   "id": "999d79954e47cb08"
  },
  {
   "cell_type": "code",
   "execution_count": null,
   "outputs": [],
   "source": [
    "prep_data = prepare_text_data(texts=text_inference, tokenizer=tokenizer)"
   ],
   "metadata": {
    "collapsed": false
   },
   "id": "4f396cf60b031825"
  },
  {
   "cell_type": "code",
   "execution_count": null,
   "outputs": [],
   "source": [
    "model_type = runs[\"tags.mlflow.runName\"].iloc[0].split(\"-\")[0]"
   ],
   "metadata": {
    "collapsed": false
   },
   "id": "573512b1ebac41e0"
  },
  {
   "cell_type": "code",
   "execution_count": null,
   "outputs": [],
   "source": [
    "model = mlflow.pyfunc.load_model(f\"runs:/{run_id}/models/{model_type}\")"
   ],
   "metadata": {
    "collapsed": false
   },
   "id": "7ea025a14c4e3bc1"
  },
  {
   "cell_type": "code",
   "execution_count": null,
   "outputs": [],
   "source": [
    "pd.DataFrame(data={\"prediction\": np.argmax(model.predict(prep_data), axis=1)})"
   ],
   "metadata": {
    "collapsed": false
   },
   "id": "488b6af9172828a8"
  },
  {
   "cell_type": "code",
   "execution_count": null,
   "outputs": [],
   "source": [],
   "metadata": {
    "collapsed": false
   },
   "id": "a487687eb39b5a79"
  }
 ],
 "metadata": {
  "kernelspec": {
   "display_name": "Python 3",
   "language": "python",
   "name": "python3"
  },
  "language_info": {
   "codemirror_mode": {
    "name": "ipython",
    "version": 2
   },
   "file_extension": ".py",
   "mimetype": "text/x-python",
   "name": "python",
   "nbconvert_exporter": "python",
   "pygments_lexer": "ipython2",
   "version": "2.7.6"
  }
 },
 "nbformat": 4,
 "nbformat_minor": 5
}
